{
 "cells": [
  {
   "cell_type": "code",
   "execution_count": 2,
   "source": [
    "import pandas as pd"
   ],
   "outputs": [],
   "metadata": {}
  },
  {
   "cell_type": "code",
   "execution_count": 4,
   "source": [
    "df = pd.read_csv('js/data/data.csv')"
   ],
   "outputs": [],
   "metadata": {}
  },
  {
   "cell_type": "code",
   "execution_count": 5,
   "source": [
    "df['Season'].unique()"
   ],
   "outputs": [
    {
     "output_type": "execute_result",
     "data": {
      "text/plain": [
       "array(['04/05', '05/06', '06/07', '07/08', '08/09', '09/10', '10/11',\n",
       "       '11-Dec', 'Dec-13', '13/14', '14/15', '15/16', '16/17', '17/18',\n",
       "       '18/19', '19/20', '20/21', '21/22', '22/23'], dtype=object)"
      ]
     },
     "metadata": {},
     "execution_count": 5
    }
   ],
   "metadata": {}
  },
  {
   "cell_type": "code",
   "execution_count": 6,
   "source": [
    "df['Season'] = df['Season'].replace('11-Dec', '11/12')\n",
    "df['Season'] = df['Season'].replace('Dec-13', '12/13')"
   ],
   "outputs": [],
   "metadata": {}
  },
  {
   "cell_type": "code",
   "execution_count": 7,
   "source": [
    "df_copy = df.copy()\n",
    "\n",
    "goals_per_season = df_copy.groupby('Season')['Goal_assist'].count().reset_index()\n",
    "\n",
    "goals_per_season.columns = ['Season', 'Number_of_Goals']\n",
    "\n",
    "print(goals_per_season)"
   ],
   "outputs": [
    {
     "output_type": "stream",
     "name": "stdout",
     "text": [
      "   Season  Number_of_Goals\n",
      "0   04/05                1\n",
      "1   05/06                6\n",
      "2   06/07               15\n",
      "3   07/08               10\n",
      "4   08/09               27\n",
      "5   09/10               40\n",
      "6   10/11               41\n",
      "7   11/12               49\n",
      "8   12/13               44\n",
      "9   13/14               27\n",
      "10  14/15               40\n",
      "11  15/16               25\n",
      "12  16/17               34\n",
      "13  17/18               33\n",
      "14  18/19               32\n",
      "15  19/20               18\n",
      "16  20/21               24\n",
      "17  21/22               10\n",
      "18  22/23               14\n"
     ]
    }
   ],
   "metadata": {}
  },
  {
   "cell_type": "code",
   "execution_count": 56,
   "source": [
    "goals_per_season.to_csv('goals_per_season.csv', index=False)"
   ],
   "outputs": [],
   "metadata": {}
  },
  {
   "cell_type": "code",
   "execution_count": null,
   "source": [
    "df.to_csv('js/data/data_cleaned.csv', index=False)"
   ],
   "outputs": [],
   "metadata": {}
  }
 ],
 "metadata": {
  "orig_nbformat": 4,
  "language_info": {
   "name": "python",
   "version": "3.9.7",
   "mimetype": "text/x-python",
   "codemirror_mode": {
    "name": "ipython",
    "version": 3
   },
   "pygments_lexer": "ipython3",
   "nbconvert_exporter": "python",
   "file_extension": ".py"
  },
  "kernelspec": {
   "name": "python3",
   "display_name": "Python 3.9.7 64-bit ('base': conda)"
  },
  "interpreter": {
   "hash": "e08fa9a9b005007e9d9b584f15cd3492490d8707cda1b7fa9e6499551a21dc96"
  }
 },
 "nbformat": 4,
 "nbformat_minor": 2
}